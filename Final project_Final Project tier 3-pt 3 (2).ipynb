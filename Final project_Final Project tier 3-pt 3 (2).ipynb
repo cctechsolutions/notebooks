{
  "metadata": {
    "language_info": {
      "codemirror_mode": {
        "name": "python",
        "version": 3
      },
      "file_extension": ".py",
      "mimetype": "text/x-python",
      "name": "python",
      "nbconvert_exporter": "python",
      "pygments_lexer": "ipython3",
      "version": "3.8"
    },
    "kernelspec": {
      "name": "python",
      "display_name": "Pyolite",
      "language": "python"
    }
  },
  "nbformat_minor": 4,
  "nbformat": 4,
  "cells": [
    {
      "cell_type": "code",
      "source": "## import libraries ##\n\nimport pandas as pd\nimport numpy as np\nimport matplotlib.pyplot as plt\nfrom scipy import stats\nimport random",
      "metadata": {
        "trusted": true
      },
      "execution_count": 1,
      "outputs": []
    },
    {
      "cell_type": "markdown",
      "source": "# Part 1-Sourcing and loading the data",
      "metadata": {}
    },
    {
      "cell_type": "markdown",
      "source": "## 1a. Source and load the data",
      "metadata": {}
    },
    {
      "cell_type": "code",
      "source": "## Read in Apple dataset ##\n\nimport pandas as pd\nfrom js import fetch\n\nURL = \"https://raw.githubusercontent.com/cctechsolutions/datasets/main/AppleStore.csv\"\n\nres = await fetch(URL)\ntext = await res.text()\n\nfilename = 'data.csv'\n\nwith open(filename, 'w') as f:\n    f.write(text)\n\napple = pd.read_csv(filename, sep=',')",
      "metadata": {
        "trusted": true
      },
      "execution_count": 2,
      "outputs": []
    },
    {
      "cell_type": "code",
      "source": "## Read in Google dataset ##\n\nURL = \"https://raw.githubusercontent.com/cctechsolutions/datasets/main/googleplaystore.csv\"\n\nres = await fetch(URL)\ntext = await res.text()\n\nfilename = 'data.csv'\n\nwith open(filename, 'w') as f:\n    f.write(text)\n\ngoogle = pd.read_csv(filename, sep=',')",
      "metadata": {
        "trusted": true
      },
      "execution_count": 3,
      "outputs": []
    },
    {
      "cell_type": "markdown",
      "source": "## 1b. and 1c. Pick and subset columns",
      "metadata": {}
    },
    {
      "cell_type": "code",
      "source": "## Subset the Apple data ##\n\napple = apple[['prime_genre', 'user_rating', 'rating_count_tot', 'price']]",
      "metadata": {
        "trusted": true
      },
      "execution_count": 4,
      "outputs": []
    },
    {
      "cell_type": "code",
      "source": "## Subset the Google data ##\n\ngoogle = google[['Category', 'Rating', 'Reviews', 'Price']]\ngoogle.shape",
      "metadata": {
        "trusted": true
      },
      "execution_count": 5,
      "outputs": [
        {
          "execution_count": 5,
          "output_type": "execute_result",
          "data": {
            "text/plain": "(10841, 4)"
          },
          "metadata": {}
        }
      ]
    },
    {
      "cell_type": "markdown",
      "source": "# Part 2-Cleaning, transforming, and visualizing",
      "metadata": {}
    },
    {
      "cell_type": "markdown",
      "source": "## 2a. Check and fix data types",
      "metadata": {}
    },
    {
      "cell_type": "code",
      "source": "## Check out the data types in Apple data frame ##\n\napple.dtypes",
      "metadata": {
        "trusted": true
      },
      "execution_count": 6,
      "outputs": [
        {
          "execution_count": 6,
          "output_type": "execute_result",
          "data": {
            "text/plain": "prime_genre          object\nuser_rating         float64\nrating_count_tot      int64\nprice               float64\ndtype: object"
          },
          "metadata": {}
        }
      ]
    },
    {
      "cell_type": "code",
      "source": "## Check out the data types in Google data frame ##\n\ngoogle.dtypes",
      "metadata": {
        "trusted": true
      },
      "execution_count": 7,
      "outputs": [
        {
          "execution_count": 7,
          "output_type": "execute_result",
          "data": {
            "text/plain": "Category     object\nRating      float64\nReviews      object\nPrice        object\ndtype: object"
          },
          "metadata": {}
        }
      ]
    },
    {
      "cell_type": "code",
      "source": "## Check unique values of the price column ##\n\ngoogleproblems = google['Price'].unique()\ngoogleproblems",
      "metadata": {
        "trusted": true
      },
      "execution_count": 8,
      "outputs": [
        {
          "execution_count": 8,
          "output_type": "execute_result",
          "data": {
            "text/plain": "array(['0', '$4.99', '$3.99', '$6.99', '$1.49', '$2.99', '$7.99', '$5.99',\n       '$3.49', '$1.99', '$9.99', '$7.49', '$0.99', '$9.00', '$5.49',\n       '$10.00', '$24.99', '$11.99', '$79.99', '$16.99', '$14.99',\n       '$1.00', '$29.99', '$12.99', '$2.49', '$10.99', '$1.50', '$19.99',\n       '$15.99', '$33.99', '$74.99', '$39.99', '$3.95', '$4.49', '$1.70',\n       '$8.99', '$2.00', '$3.88', '$25.99', '$399.99', '$17.99',\n       '$400.00', '$3.02', '$1.76', '$4.84', '$4.77', '$1.61', '$2.50',\n       '$1.59', '$6.49', '$1.29', '$5.00', '$13.99', '$299.99', '$379.99',\n       '$37.99', '$18.99', '$389.99', '$19.90', '$8.49', '$1.75',\n       '$14.00', '$4.85', '$46.99', '$109.99', '$154.99', '$3.08',\n       '$2.59', '$4.80', '$1.96', '$19.40', '$3.90', '$4.59', '$15.46',\n       '$3.04', '$4.29', '$2.60', '$3.28', '$4.60', '$28.99', '$2.95',\n       '$2.90', '$1.97', '$200.00', '$89.99', '$2.56', '$30.99', '$3.61',\n       '$394.99', '$1.26', 'Everyone', '$1.20', '$1.04'], dtype=object)"
          },
          "metadata": {}
        }
      ]
    },
    {
      "cell_type": "code",
      "source": "## Check which data points have the value 'Everyone' for the 'Price' column ##\n\ngoogle[google['Price']=='Everyone']\n",
      "metadata": {
        "trusted": true
      },
      "execution_count": 9,
      "outputs": [
        {
          "execution_count": 9,
          "output_type": "execute_result",
          "data": {
            "text/plain": "      Category  Rating Reviews     Price\n10472      1.9    19.0    3.0M  Everyone",
            "text/html": "<div>\n<style scoped>\n    .dataframe tbody tr th:only-of-type {\n        vertical-align: middle;\n    }\n\n    .dataframe tbody tr th {\n        vertical-align: top;\n    }\n\n    .dataframe thead th {\n        text-align: right;\n    }\n</style>\n<table border=\"1\" class=\"dataframe\">\n  <thead>\n    <tr style=\"text-align: right;\">\n      <th></th>\n      <th>Category</th>\n      <th>Rating</th>\n      <th>Reviews</th>\n      <th>Price</th>\n    </tr>\n  </thead>\n  <tbody>\n    <tr>\n      <th>10472</th>\n      <td>1.9</td>\n      <td>19.0</td>\n      <td>3.0M</td>\n      <td>Everyone</td>\n    </tr>\n  </tbody>\n</table>\n</div>"
          },
          "metadata": {}
        }
      ]
    },
    {
      "cell_type": "code",
      "source": "## Remove the row with the problematic value ## \n\ngoogle = google.drop(10472)",
      "metadata": {
        "trusted": true
      },
      "execution_count": 10,
      "outputs": []
    },
    {
      "cell_type": "code",
      "source": "## Re-check unique values of the price column ##\n\ngoogleproblems = google['Price'].unique()\ngoogleproblems",
      "metadata": {
        "trusted": true
      },
      "execution_count": 11,
      "outputs": [
        {
          "execution_count": 11,
          "output_type": "execute_result",
          "data": {
            "text/plain": "array(['0', '$4.99', '$3.99', '$6.99', '$1.49', '$2.99', '$7.99', '$5.99',\n       '$3.49', '$1.99', '$9.99', '$7.49', '$0.99', '$9.00', '$5.49',\n       '$10.00', '$24.99', '$11.99', '$79.99', '$16.99', '$14.99',\n       '$1.00', '$29.99', '$12.99', '$2.49', '$10.99', '$1.50', '$19.99',\n       '$15.99', '$33.99', '$74.99', '$39.99', '$3.95', '$4.49', '$1.70',\n       '$8.99', '$2.00', '$3.88', '$25.99', '$399.99', '$17.99',\n       '$400.00', '$3.02', '$1.76', '$4.84', '$4.77', '$1.61', '$2.50',\n       '$1.59', '$6.49', '$1.29', '$5.00', '$13.99', '$299.99', '$379.99',\n       '$37.99', '$18.99', '$389.99', '$19.90', '$8.49', '$1.75',\n       '$14.00', '$4.85', '$46.99', '$109.99', '$154.99', '$3.08',\n       '$2.59', '$4.80', '$1.96', '$19.40', '$3.90', '$4.59', '$15.46',\n       '$3.04', '$4.29', '$2.60', '$3.28', '$4.60', '$28.99', '$2.95',\n       '$2.90', '$1.97', '$200.00', '$89.99', '$2.56', '$30.99', '$3.61',\n       '$394.99', '$1.26', '$1.20', '$1.04'], dtype=object)"
          },
          "metadata": {}
        }
      ]
    },
    {
      "cell_type": "code",
      "source": "## Convert the price values to numeric ##\n\ngoogle['Price'] = pd.to_numeric(google['Price'], errors='ignore')",
      "metadata": {
        "trusted": true
      },
      "execution_count": 12,
      "outputs": []
    },
    {
      "cell_type": "code",
      "source": "## Check the type to make sure price is now numeric ##\n\ngoogle.dtypes",
      "metadata": {
        "trusted": true
      },
      "execution_count": 13,
      "outputs": [
        {
          "execution_count": 13,
          "output_type": "execute_result",
          "data": {
            "text/plain": "Category     object\nRating      float64\nReviews      object\nPrice        object\ndtype: object"
          },
          "metadata": {}
        }
      ]
    },
    {
      "cell_type": "code",
      "source": "## Convert the reviews values to numeric ##\n\ngoogle['Reviews'] = pd.to_numeric(google['Reviews'], errors='ignore')",
      "metadata": {
        "trusted": true
      },
      "execution_count": 14,
      "outputs": []
    },
    {
      "cell_type": "code",
      "source": "## Check the type to make sure price is now numeric ##\n\ngoogle.dtypes\ngoogle.shape",
      "metadata": {
        "trusted": true
      },
      "execution_count": 15,
      "outputs": [
        {
          "execution_count": 15,
          "output_type": "execute_result",
          "data": {
            "text/plain": "(10840, 4)"
          },
          "metadata": {}
        }
      ]
    },
    {
      "cell_type": "markdown",
      "source": "## 2b. Add platform column",
      "metadata": {}
    },
    {
      "cell_type": "code",
      "source": "## Add the column 'Platform' to both datasets ##\n\napple['Platform'] = 'apple'\ngoogle['Platform'] = 'google'",
      "metadata": {
        "trusted": true
      },
      "execution_count": 16,
      "outputs": []
    },
    {
      "cell_type": "markdown",
      "source": "## 2c. Change column names to prepare dataset merge",
      "metadata": {}
    },
    {
      "cell_type": "code",
      "source": "## Store the old column names of the Apple data frame ##\n\napple.columns = ['prime_genre', 'user_rating', 'rating_count_tot', 'price', 'Platform']\nold_names = apple.columns",
      "metadata": {
        "trusted": true
      },
      "execution_count": 17,
      "outputs": []
    },
    {
      "cell_type": "code",
      "source": "## Create a variable called new_names where you'll store the column names of the Google data frame ##\n\ngoogle.columns = ['Category', 'Rating', 'Reviews', 'Price', 'Platform']\nnew_names = google.columns",
      "metadata": {
        "trusted": true
      },
      "execution_count": 18,
      "outputs": []
    },
    {
      "cell_type": "code",
      "source": "## Change the column names in the Apple dataset ##\n\nold_names.columns = ['prime_genre', 'user_rating', 'rating_count_tot', 'price', 'Platform']\\\n\nnew_names.columns = ['Category', 'Rating', 'Reviews', 'Price', 'Platform']\n\napple = apple.rename(columns=dict(zip(old_names, new_names)))",
      "metadata": {
        "trusted": true
      },
      "execution_count": 19,
      "outputs": []
    },
    {
      "cell_type": "markdown",
      "source": "## 2d. Join the two datasets",
      "metadata": {}
    },
    {
      "cell_type": "code",
      "source": "## Join the two datasets ##\n\ndf = google.append(apple)",
      "metadata": {
        "trusted": true
      },
      "execution_count": 20,
      "outputs": [
        {
          "name": "stderr",
          "text": "<ipython-input-20-23976558e93d>:3: FutureWarning: The frame.append method is deprecated and will be removed from pandas in a future version. Use pandas.concat instead.\n  df = google.append(apple)\n",
          "output_type": "stream"
        }
      ]
    },
    {
      "cell_type": "code",
      "source": "## Check the merge by viewing a sample of the combined dataset ##\n\ndf.sample(12)",
      "metadata": {
        "trusted": true
      },
      "execution_count": 21,
      "outputs": [
        {
          "execution_count": 21,
          "output_type": "execute_result",
          "data": {
            "text/plain": "                 Category  Rating  Reviews Price Platform\n9158               FAMILY     4.4    93870     0   google\n1057              FINANCE     3.4    31906     0   google\n10506              FAMILY     4.2    38473     0   google\n5137                Games     4.5     8402   0.0    apple\n2152            Utilities     4.0     1477  1.99    apple\n4799               FAMILY     4.8  1499466     0   google\n7777               FAMILY     4.7    92010     0   google\n8859                TOOLS     1.7       10     0   google\n4710               FAMILY     4.3      589     0   google\n3740   NEWS_AND_MAGAZINES     4.5   357944     0   google\n9037                TOOLS     4.1       27     0   google\n263              BUSINESS     3.9     1058     0   google",
            "text/html": "<div>\n<style scoped>\n    .dataframe tbody tr th:only-of-type {\n        vertical-align: middle;\n    }\n\n    .dataframe tbody tr th {\n        vertical-align: top;\n    }\n\n    .dataframe thead th {\n        text-align: right;\n    }\n</style>\n<table border=\"1\" class=\"dataframe\">\n  <thead>\n    <tr style=\"text-align: right;\">\n      <th></th>\n      <th>Category</th>\n      <th>Rating</th>\n      <th>Reviews</th>\n      <th>Price</th>\n      <th>Platform</th>\n    </tr>\n  </thead>\n  <tbody>\n    <tr>\n      <th>9158</th>\n      <td>FAMILY</td>\n      <td>4.4</td>\n      <td>93870</td>\n      <td>0</td>\n      <td>google</td>\n    </tr>\n    <tr>\n      <th>1057</th>\n      <td>FINANCE</td>\n      <td>3.4</td>\n      <td>31906</td>\n      <td>0</td>\n      <td>google</td>\n    </tr>\n    <tr>\n      <th>10506</th>\n      <td>FAMILY</td>\n      <td>4.2</td>\n      <td>38473</td>\n      <td>0</td>\n      <td>google</td>\n    </tr>\n    <tr>\n      <th>5137</th>\n      <td>Games</td>\n      <td>4.5</td>\n      <td>8402</td>\n      <td>0.0</td>\n      <td>apple</td>\n    </tr>\n    <tr>\n      <th>2152</th>\n      <td>Utilities</td>\n      <td>4.0</td>\n      <td>1477</td>\n      <td>1.99</td>\n      <td>apple</td>\n    </tr>\n    <tr>\n      <th>4799</th>\n      <td>FAMILY</td>\n      <td>4.8</td>\n      <td>1499466</td>\n      <td>0</td>\n      <td>google</td>\n    </tr>\n    <tr>\n      <th>7777</th>\n      <td>FAMILY</td>\n      <td>4.7</td>\n      <td>92010</td>\n      <td>0</td>\n      <td>google</td>\n    </tr>\n    <tr>\n      <th>8859</th>\n      <td>TOOLS</td>\n      <td>1.7</td>\n      <td>10</td>\n      <td>0</td>\n      <td>google</td>\n    </tr>\n    <tr>\n      <th>4710</th>\n      <td>FAMILY</td>\n      <td>4.3</td>\n      <td>589</td>\n      <td>0</td>\n      <td>google</td>\n    </tr>\n    <tr>\n      <th>3740</th>\n      <td>NEWS_AND_MAGAZINES</td>\n      <td>4.5</td>\n      <td>357944</td>\n      <td>0</td>\n      <td>google</td>\n    </tr>\n    <tr>\n      <th>9037</th>\n      <td>TOOLS</td>\n      <td>4.1</td>\n      <td>27</td>\n      <td>0</td>\n      <td>google</td>\n    </tr>\n    <tr>\n      <th>263</th>\n      <td>BUSINESS</td>\n      <td>3.9</td>\n      <td>1058</td>\n      <td>0</td>\n      <td>google</td>\n    </tr>\n  </tbody>\n</table>\n</div>"
          },
          "metadata": {}
        }
      ]
    },
    {
      "cell_type": "markdown",
      "source": "## 2e. Eliminate NaN values",
      "metadata": {}
    },
    {
      "cell_type": "code",
      "source": "## Check the dimensions of the new dataset ##\n\ndf.shape",
      "metadata": {
        "trusted": true
      },
      "execution_count": 22,
      "outputs": [
        {
          "execution_count": 22,
          "output_type": "execute_result",
          "data": {
            "text/plain": "(18037, 5)"
          },
          "metadata": {}
        }
      ]
    },
    {
      "cell_type": "code",
      "source": "## Drop all NaN values ##\n\ndf = df.dropna()",
      "metadata": {
        "trusted": true
      },
      "execution_count": 23,
      "outputs": []
    },
    {
      "cell_type": "code",
      "source": "## Check the dimensions after dropping NaN values ##\n\ndf.shape",
      "metadata": {
        "trusted": true
      },
      "execution_count": 24,
      "outputs": [
        {
          "execution_count": 24,
          "output_type": "execute_result",
          "data": {
            "text/plain": "(16563, 5)"
          },
          "metadata": {}
        }
      ]
    },
    {
      "cell_type": "markdown",
      "source": "## 2f. Filter data",
      "metadata": {}
    },
    {
      "cell_type": "code",
      "source": "# Subset your df to pick out just those rows whose value for 'Reviews' is equal to 0. ##\n# Do a count() on the result. \n\ncolumn = df['Reviews'] \ncount = column[column == 0].count()\n\ncount",
      "metadata": {
        "trusted": true
      },
      "execution_count": 25,
      "outputs": [
        {
          "execution_count": 25,
          "output_type": "execute_result",
          "data": {
            "text/plain": "929"
          },
          "metadata": {}
        }
      ]
    },
    {
      "cell_type": "code",
      "source": "## Eliminate the observations that have 0 reviews. ##\ndf = df.loc[df['Reviews'] != 0]",
      "metadata": {
        "trusted": true
      },
      "execution_count": 26,
      "outputs": []
    },
    {
      "cell_type": "markdown",
      "source": "## 2g. Summarize the data",
      "metadata": {}
    },
    {
      "cell_type": "code",
      "source": "## Summarize data analytically the reviews column for each platform. ##\n\ndf.groupby('Platform')['Rating'].describe()",
      "metadata": {
        "trusted": true
      },
      "execution_count": 27,
      "outputs": [
        {
          "execution_count": 27,
          "output_type": "execute_result",
          "data": {
            "text/plain": "           count      mean       std  min  25%  50%  75%  max\nPlatform                                                     \napple     6268.0  4.049697  0.726943  1.0  4.0  4.5  4.5  5.0\ngoogle    9366.0  4.191757  0.515219  1.0  4.0  4.3  4.5  5.0",
            "text/html": "<div>\n<style scoped>\n    .dataframe tbody tr th:only-of-type {\n        vertical-align: middle;\n    }\n\n    .dataframe tbody tr th {\n        vertical-align: top;\n    }\n\n    .dataframe thead th {\n        text-align: right;\n    }\n</style>\n<table border=\"1\" class=\"dataframe\">\n  <thead>\n    <tr style=\"text-align: right;\">\n      <th></th>\n      <th>count</th>\n      <th>mean</th>\n      <th>std</th>\n      <th>min</th>\n      <th>25%</th>\n      <th>50%</th>\n      <th>75%</th>\n      <th>max</th>\n    </tr>\n    <tr>\n      <th>Platform</th>\n      <th></th>\n      <th></th>\n      <th></th>\n      <th></th>\n      <th></th>\n      <th></th>\n      <th></th>\n      <th></th>\n    </tr>\n  </thead>\n  <tbody>\n    <tr>\n      <th>apple</th>\n      <td>6268.0</td>\n      <td>4.049697</td>\n      <td>0.726943</td>\n      <td>1.0</td>\n      <td>4.0</td>\n      <td>4.5</td>\n      <td>4.5</td>\n      <td>5.0</td>\n    </tr>\n    <tr>\n      <th>google</th>\n      <td>9366.0</td>\n      <td>4.191757</td>\n      <td>0.515219</td>\n      <td>1.0</td>\n      <td>4.0</td>\n      <td>4.3</td>\n      <td>4.5</td>\n      <td>5.0</td>\n    </tr>\n  </tbody>\n</table>\n</div>"
          },
          "metadata": {}
        }
      ]
    },
    {
      "cell_type": "code",
      "source": "## Summarize data visually ##\n\ndf.boxplot(by='Platform', column ='Rating', grid=False, rot=45, fontsize=15)\nplt.show()",
      "metadata": {
        "trusted": true
      },
      "execution_count": 28,
      "outputs": [
        {
          "output_type": "display_data",
          "data": {
            "text/plain": "<pyolite.display.Image at 0x4750660>",
            "image/png": "[encoded data removed]"
          },
          "metadata": {}
        }
      ]
    },
    {
      "cell_type": "markdown",
      "source": "# Part 3-Modelling",
      "metadata": {}
    },
    {
      "cell_type": "markdown",
      "source": "## 3a. Hypothesis formulation",
      "metadata": {}
    },
    {
      "cell_type": "markdown",
      "source": "H-null: the observed difference in the mean rating of Apple Store and Google Play apps is due to chance (and thus not due to the platform.)\n\nH-alternative: the observed difference in the average ratings of apple and google users is not due to chance (and is actually due to platform.)\n\nWe're also going to pick a significance level of 0.05.",
      "metadata": {}
    },
    {
      "cell_type": "markdown",
      "source": "## 3b. Getting the distribution of the data",
      "metadata": {}
    },
    {
      "cell_type": "code",
      "source": "# Create a subset of the column 'Rating' by the different platforms.\n# Call the subsets 'apple' and 'google' \napple = df[df['Platform'] =='apple']['Rating']\napple.head()\n\ngoogle = df[df['Platform'] == 'google']['Rating']\ngoogle.head()",
      "metadata": {
        "trusted": true
      },
      "execution_count": 29,
      "outputs": [
        {
          "execution_count": 29,
          "output_type": "execute_result",
          "data": {
            "text/plain": "0    4.1\n1    3.9\n2    4.7\n3    4.5\n4    4.3\nName: Rating, dtype: float64"
          },
          "metadata": {}
        }
      ]
    },
    {
      "cell_type": "code",
      "source": "## Perform normality test on the Apple subset ##\n\napple_normal = stats.normaltest(apple)\nprint(apple_normal)",
      "metadata": {
        "trusted": true
      },
      "execution_count": 30,
      "outputs": [
        {
          "name": "stdout",
          "text": "NormaltestResult(statistic=1778.9974234584017, pvalue=0.0)\n",
          "output_type": "stream"
        }
      ]
    },
    {
      "cell_type": "code",
      "source": "## Perform normality test on the Google subset ##\n\ngoogle_normal = stats.normaltest(google)\nprint(google_normal)",
      "metadata": {
        "trusted": true
      },
      "execution_count": 31,
      "outputs": [
        {
          "name": "stdout",
          "text": "NormaltestResult(statistic=3678.6157187516856, pvalue=0.0)\n",
          "output_type": "stream"
        }
      ]
    },
    {
      "cell_type": "code",
      "source": "## Display a histogram of the Apple data ##\n\nhistoApple = plt.hist(apple)\nhistoApple\n\nplt.show()",
      "metadata": {
        "trusted": true
      },
      "execution_count": 32,
      "outputs": [
        {
          "output_type": "display_data",
          "data": {
            "text/plain": "<pyolite.display.Image at 0x4f6c038>",
            "image/png": "[encoded data removed]"
          },
          "metadata": {}
        }
      ]
    },
    {
      "cell_type": "code",
      "source": "## Display a histogram of the Google data ##\n\nhistoGoogle = plt.hist(google)\nhistoGoogle\n\nplt.show()",
      "metadata": {
        "trusted": true
      },
      "execution_count": 33,
      "outputs": [
        {
          "output_type": "display_data",
          "data": {
            "text/plain": "<pyolite.display.Image at 0x5426260>",
            "image/png": "[encoded data removed]"
          },
          "metadata": {}
        }
      ]
    },
    {
      "cell_type": "markdown",
      "source": "## 3c. Permutation test",
      "metadata": {}
    },
    {
      "cell_type": "code",
      "source": "## Create permutation column ##\n## Summarize data analytically the permutation column for each platform ##\n\ndf['Permutation1'] = np.random.permutation(df['Rating'])\n\ndf.groupby('Platform')['Permutation1'].describe()",
      "metadata": {
        "trusted": true
      },
      "execution_count": 34,
      "outputs": [
        {
          "execution_count": 34,
          "output_type": "execute_result",
          "data": {
            "text/plain": "           count      mean       std  min  25%  50%  75%  max\nPlatform                                                     \napple     6268.0  4.138162  0.613144  1.0  4.0  4.3  4.5  5.0\ngoogle    9366.0  4.132554  0.612847  1.0  4.0  4.3  4.5  5.0",
            "text/html": "<div>\n<style scoped>\n    .dataframe tbody tr th:only-of-type {\n        vertical-align: middle;\n    }\n\n    .dataframe tbody tr th {\n        vertical-align: top;\n    }\n\n    .dataframe thead th {\n        text-align: right;\n    }\n</style>\n<table border=\"1\" class=\"dataframe\">\n  <thead>\n    <tr style=\"text-align: right;\">\n      <th></th>\n      <th>count</th>\n      <th>mean</th>\n      <th>std</th>\n      <th>min</th>\n      <th>25%</th>\n      <th>50%</th>\n      <th>75%</th>\n      <th>max</th>\n    </tr>\n    <tr>\n      <th>Platform</th>\n      <th></th>\n      <th></th>\n      <th></th>\n      <th></th>\n      <th></th>\n      <th></th>\n      <th></th>\n      <th></th>\n    </tr>\n  </thead>\n  <tbody>\n    <tr>\n      <th>apple</th>\n      <td>6268.0</td>\n      <td>4.138162</td>\n      <td>0.613144</td>\n      <td>1.0</td>\n      <td>4.0</td>\n      <td>4.3</td>\n      <td>4.5</td>\n      <td>5.0</td>\n    </tr>\n    <tr>\n      <th>google</th>\n      <td>9366.0</td>\n      <td>4.132554</td>\n      <td>0.612847</td>\n      <td>1.0</td>\n      <td>4.0</td>\n      <td>4.3</td>\n      <td>4.5</td>\n      <td>5.0</td>\n    </tr>\n  </tbody>\n</table>\n</div>"
          },
          "metadata": {}
        }
      ]
    },
    {
      "cell_type": "code",
      "source": "## Compare permutation summary data to previous rating summary data ##\n\ndf.groupby('Platform')['Rating'].describe()",
      "metadata": {
        "trusted": true
      },
      "execution_count": 35,
      "outputs": [
        {
          "execution_count": 35,
          "output_type": "execute_result",
          "data": {
            "text/plain": "           count      mean       std  min  25%  50%  75%  max\nPlatform                                                     \napple     6268.0  4.049697  0.726943  1.0  4.0  4.5  4.5  5.0\ngoogle    9366.0  4.191757  0.515219  1.0  4.0  4.3  4.5  5.0",
            "text/html": "<div>\n<style scoped>\n    .dataframe tbody tr th:only-of-type {\n        vertical-align: middle;\n    }\n\n    .dataframe tbody tr th {\n        vertical-align: top;\n    }\n\n    .dataframe thead th {\n        text-align: right;\n    }\n</style>\n<table border=\"1\" class=\"dataframe\">\n  <thead>\n    <tr style=\"text-align: right;\">\n      <th></th>\n      <th>count</th>\n      <th>mean</th>\n      <th>std</th>\n      <th>min</th>\n      <th>25%</th>\n      <th>50%</th>\n      <th>75%</th>\n      <th>max</th>\n    </tr>\n    <tr>\n      <th>Platform</th>\n      <th></th>\n      <th></th>\n      <th></th>\n      <th></th>\n      <th></th>\n      <th></th>\n      <th></th>\n      <th></th>\n    </tr>\n  </thead>\n  <tbody>\n    <tr>\n      <th>apple</th>\n      <td>6268.0</td>\n      <td>4.049697</td>\n      <td>0.726943</td>\n      <td>1.0</td>\n      <td>4.0</td>\n      <td>4.5</td>\n      <td>4.5</td>\n      <td>5.0</td>\n    </tr>\n    <tr>\n      <th>google</th>\n      <td>9366.0</td>\n      <td>4.191757</td>\n      <td>0.515219</td>\n      <td>1.0</td>\n      <td>4.0</td>\n      <td>4.3</td>\n      <td>4.5</td>\n      <td>5.0</td>\n    </tr>\n  </tbody>\n</table>\n</div>"
          },
          "metadata": {}
        }
      ]
    },
    {
      "cell_type": "code",
      "source": "## Make a list of the difference ##\n\ndifference = list()\nfor i in range(10000):\n    permutation = np.random.permutation(df['Rating'])\n    difference.append(np.mean(permutation[df['Platform']=='apple']) - np.mean(permutation[df['Platform']=='google']))",
      "metadata": {
        "trusted": true
      },
      "execution_count": 42,
      "outputs": []
    },
    {
      "cell_type": "code",
      "source": "## Create a histogram of the difference ##\n\nhisto = plt.hist(difference)\nplt.show()",
      "metadata": {
        "trusted": true
      },
      "execution_count": 43,
      "outputs": [
        {
          "output_type": "display_data",
          "data": {
            "text/plain": "<pyolite.display.Image at 0x5eb5ac8>",
            "image/png": "[encoded data removed]"
          },
          "metadata": {}
        }
      ]
    },
    {
      "cell_type": "code",
      "source": "## Print the final difference ##\n\nobs_difference = np.mean(apple) - np.mean(google)\nobs_difference = abs(obs_difference)\nobs_difference",
      "metadata": {
        "trusted": true
      },
      "execution_count": 41,
      "outputs": [
        {
          "execution_count": 41,
          "output_type": "execute_result",
          "data": {
            "text/plain": "0.1420605474512291"
          },
          "metadata": {}
        }
      ]
    }
  ]
}