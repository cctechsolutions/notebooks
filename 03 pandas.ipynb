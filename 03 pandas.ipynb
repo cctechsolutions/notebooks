{
  "metadata": {
    "language_info": {
      "codemirror_mode": {
        "name": "python",
        "version": 3
      },
      "file_extension": ".py",
      "mimetype": "text/x-python",
      "name": "python",
      "nbconvert_exporter": "python",
      "pygments_lexer": "ipython3",
      "version": "3.8"
    },
    "kernelspec": {
      "name": "python",
      "display_name": "Pyolite",
      "language": "python"
    }
  },
  "nbformat_minor": 4,
  "nbformat": 4,
  "cells": [
    {
      "cell_type": "code",
      "source": "import numpy as np\nimport pandas as pd",
      "metadata": {
        "trusted": true
      },
      "execution_count": 117,
      "outputs": []
    },
    {
      "cell_type": "code",
      "source": "pets = pd.DataFrame({'sex': np.array(['M', 'M', 'F', 'M', 'F', 'F', 'F', 'M', 'F', 'M']),\n                   'age': np.array([21, 45, 23, 56, 47, 70, 34, 30, 19, 62]),\n                   'pets': np.array([['cat', 'dog'],\n                                    ['hamster'],\n                                    ['cat', 'gerbil'],\n                                    ['fish', 'hamster', 'gerbil'],\n                                    ['cat'],\n                                    ['dog'],\n                                    ['dog'],\n                                    ['cat'],\n                                    ['rabbit', 'cat'],\n                                    ['dog']])})",
      "metadata": {
        "trusted": true
      },
      "execution_count": 118,
      "outputs": [
        {
          "name": "stderr",
          "text": "<ipython-input-118-697f91f7354f>:3: VisibleDeprecationWarning: Creating an ndarray from ragged nested sequences (which is a list-or-tuple of lists-or-tuples-or ndarrays with different lengths or shapes) is deprecated. If you meant to do this, you must specify 'dtype=object' when creating the ndarray.\n  'pets': np.array([['cat', 'dog'],\n",
          "output_type": "stream"
        }
      ]
    },
    {
      "cell_type": "code",
      "source": "pets",
      "metadata": {
        "trusted": true
      },
      "execution_count": 14,
      "outputs": [
        {
          "execution_count": 14,
          "output_type": "execute_result",
          "data": {
            "text/plain": "  sex  age                     pets\n0   M   21               [cat, dog]\n1   M   45                [hamster]\n2   F   23            [cat, gerbil]\n3   M   56  [fish, hamster, gerbil]\n4   F   47                    [cat]\n5   F   70                    [dog]\n6   F   34                    [dog]\n7   M   30                    [cat]\n8   F   19            [rabbit, cat]\n9   M   62                    [dog]",
            "text/html": "<div>\n<style scoped>\n    .dataframe tbody tr th:only-of-type {\n        vertical-align: middle;\n    }\n\n    .dataframe tbody tr th {\n        vertical-align: top;\n    }\n\n    .dataframe thead th {\n        text-align: right;\n    }\n</style>\n<table border=\"1\" class=\"dataframe\">\n  <thead>\n    <tr style=\"text-align: right;\">\n      <th></th>\n      <th>sex</th>\n      <th>age</th>\n      <th>pets</th>\n    </tr>\n  </thead>\n  <tbody>\n    <tr>\n      <th>0</th>\n      <td>M</td>\n      <td>21</td>\n      <td>[cat, dog]</td>\n    </tr>\n    <tr>\n      <th>1</th>\n      <td>M</td>\n      <td>45</td>\n      <td>[hamster]</td>\n    </tr>\n    <tr>\n      <th>2</th>\n      <td>F</td>\n      <td>23</td>\n      <td>[cat, gerbil]</td>\n    </tr>\n    <tr>\n      <th>3</th>\n      <td>M</td>\n      <td>56</td>\n      <td>[fish, hamster, gerbil]</td>\n    </tr>\n    <tr>\n      <th>4</th>\n      <td>F</td>\n      <td>47</td>\n      <td>[cat]</td>\n    </tr>\n    <tr>\n      <th>5</th>\n      <td>F</td>\n      <td>70</td>\n      <td>[dog]</td>\n    </tr>\n    <tr>\n      <th>6</th>\n      <td>F</td>\n      <td>34</td>\n      <td>[dog]</td>\n    </tr>\n    <tr>\n      <th>7</th>\n      <td>M</td>\n      <td>30</td>\n      <td>[cat]</td>\n    </tr>\n    <tr>\n      <th>8</th>\n      <td>F</td>\n      <td>19</td>\n      <td>[rabbit, cat]</td>\n    </tr>\n    <tr>\n      <th>9</th>\n      <td>M</td>\n      <td>62</td>\n      <td>[dog]</td>\n    </tr>\n  </tbody>\n</table>\n</div>"
          },
          "metadata": {}
        }
      ]
    },
    {
      "cell_type": "code",
      "source": "pets['age'].min()",
      "metadata": {
        "trusted": true
      },
      "execution_count": 21,
      "outputs": [
        {
          "execution_count": 21,
          "output_type": "execute_result",
          "data": {
            "text/plain": "19"
          },
          "metadata": {}
        }
      ]
    },
    {
      "cell_type": "code",
      "source": "pets['age'].idxmin()",
      "metadata": {
        "trusted": true
      },
      "execution_count": 20,
      "outputs": [
        {
          "execution_count": 20,
          "output_type": "execute_result",
          "data": {
            "text/plain": "8"
          },
          "metadata": {}
        }
      ]
    },
    {
      "cell_type": "code",
      "source": "pets.loc[8, 'sex']",
      "metadata": {
        "trusted": true
      },
      "execution_count": 28,
      "outputs": [
        {
          "execution_count": 28,
          "output_type": "execute_result",
          "data": {
            "text/plain": "'F'"
          },
          "metadata": {}
        }
      ]
    },
    {
      "cell_type": "code",
      "source": "pets.loc[[pets['age'].idxmin()], 'sex']",
      "metadata": {
        "trusted": true
      },
      "execution_count": 38,
      "outputs": [
        {
          "execution_count": 38,
          "output_type": "execute_result",
          "data": {
            "text/plain": "8    F\nName: sex, dtype: object"
          },
          "metadata": {}
        }
      ]
    },
    {
      "cell_type": "code",
      "source": "pets['num_pets'] = [len(x) for x in pets['pets']]\npets",
      "metadata": {
        "trusted": true
      },
      "execution_count": 46,
      "outputs": [
        {
          "execution_count": 46,
          "output_type": "execute_result",
          "data": {
            "text/plain": "  sex  age                     pets  num_pets\n0   M   21               [cat, dog]         2\n1   M   45                [hamster]         1\n2   F   23            [cat, gerbil]         2\n3   M   56  [fish, hamster, gerbil]         3\n4   F   47                    [cat]         1\n5   F   70                    [dog]         1\n6   F   34                    [dog]         1\n7   M   30                    [cat]         1\n8   F   19            [rabbit, cat]         2\n9   M   62                    [dog]         1",
            "text/html": "<div>\n<style scoped>\n    .dataframe tbody tr th:only-of-type {\n        vertical-align: middle;\n    }\n\n    .dataframe tbody tr th {\n        vertical-align: top;\n    }\n\n    .dataframe thead th {\n        text-align: right;\n    }\n</style>\n<table border=\"1\" class=\"dataframe\">\n  <thead>\n    <tr style=\"text-align: right;\">\n      <th></th>\n      <th>sex</th>\n      <th>age</th>\n      <th>pets</th>\n      <th>num_pets</th>\n    </tr>\n  </thead>\n  <tbody>\n    <tr>\n      <th>0</th>\n      <td>M</td>\n      <td>21</td>\n      <td>[cat, dog]</td>\n      <td>2</td>\n    </tr>\n    <tr>\n      <th>1</th>\n      <td>M</td>\n      <td>45</td>\n      <td>[hamster]</td>\n      <td>1</td>\n    </tr>\n    <tr>\n      <th>2</th>\n      <td>F</td>\n      <td>23</td>\n      <td>[cat, gerbil]</td>\n      <td>2</td>\n    </tr>\n    <tr>\n      <th>3</th>\n      <td>M</td>\n      <td>56</td>\n      <td>[fish, hamster, gerbil]</td>\n      <td>3</td>\n    </tr>\n    <tr>\n      <th>4</th>\n      <td>F</td>\n      <td>47</td>\n      <td>[cat]</td>\n      <td>1</td>\n    </tr>\n    <tr>\n      <th>5</th>\n      <td>F</td>\n      <td>70</td>\n      <td>[dog]</td>\n      <td>1</td>\n    </tr>\n    <tr>\n      <th>6</th>\n      <td>F</td>\n      <td>34</td>\n      <td>[dog]</td>\n      <td>1</td>\n    </tr>\n    <tr>\n      <th>7</th>\n      <td>M</td>\n      <td>30</td>\n      <td>[cat]</td>\n      <td>1</td>\n    </tr>\n    <tr>\n      <th>8</th>\n      <td>F</td>\n      <td>19</td>\n      <td>[rabbit, cat]</td>\n      <td>2</td>\n    </tr>\n    <tr>\n      <th>9</th>\n      <td>M</td>\n      <td>62</td>\n      <td>[dog]</td>\n      <td>1</td>\n    </tr>\n  </tbody>\n</table>\n</div>"
          },
          "metadata": {}
        }
      ]
    },
    {
      "cell_type": "code",
      "source": "pets.loc[[pets['num_pets'].idxmax()], 'age']",
      "metadata": {
        "trusted": true
      },
      "execution_count": 44,
      "outputs": [
        {
          "execution_count": 44,
          "output_type": "execute_result",
          "data": {
            "text/plain": "3    56\nName: age, dtype: int32"
          },
          "metadata": {}
        }
      ]
    },
    {
      "cell_type": "code",
      "source": "pet_series = pets['pets'].apply(pd.Series).stack().reset_index(drop=True)\npet_series",
      "metadata": {
        "trusted": true
      },
      "execution_count": 47,
      "outputs": [
        {
          "execution_count": 47,
          "output_type": "execute_result",
          "data": {
            "text/plain": "0         cat\n1         dog\n2     hamster\n3         cat\n4      gerbil\n5        fish\n6     hamster\n7      gerbil\n8         cat\n9         dog\n10        dog\n11        cat\n12     rabbit\n13        cat\n14        dog\ndtype: object"
          },
          "metadata": {}
        }
      ]
    },
    {
      "cell_type": "code",
      "source": "count_pets = pet_series.value_counts()\ncount_pets.nlargest(1)",
      "metadata": {
        "trusted": true
      },
      "execution_count": 70,
      "outputs": [
        {
          "execution_count": 70,
          "output_type": "execute_result",
          "data": {
            "text/plain": "cat    5\ndtype: int64"
          },
          "metadata": {}
        }
      ]
    },
    {
      "cell_type": "code",
      "source": "pets.loc[pets['pets'].apply(lambda x: 'dog' in x), 'age'].mean()",
      "metadata": {
        "trusted": true
      },
      "execution_count": 124,
      "outputs": [
        {
          "execution_count": 124,
          "output_type": "execute_result",
          "data": {
            "text/plain": "46.75"
          },
          "metadata": {}
        }
      ]
    },
    {
      "cell_type": "code",
      "source": "",
      "metadata": {},
      "execution_count": null,
      "outputs": []
    }
  ]
}