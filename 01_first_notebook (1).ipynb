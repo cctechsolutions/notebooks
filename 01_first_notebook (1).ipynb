{
  "metadata": {
    "language_info": {
      "codemirror_mode": {
        "name": "python",
        "version": 3
      },
      "file_extension": ".py",
      "mimetype": "text/x-python",
      "name": "python",
      "nbconvert_exporter": "python",
      "pygments_lexer": "ipython3",
      "version": "3.8"
    },
    "kernelspec": {
      "name": "python",
      "display_name": "Pyolite",
      "language": "python"
    }
  },
  "nbformat_minor": 4,
  "nbformat": 4,
  "cells": [
    {
      "cell_type": "markdown",
      "source": "#Introduction\nThis is my *first* Jupyter notebook.",
      "metadata": {}
    },
    {
      "cell_type": "code",
      "source": "x = 5\ny = 6\nz = x + y",
      "metadata": {
        "trusted": true
      },
      "execution_count": 5,
      "outputs": []
    }
  ]
}