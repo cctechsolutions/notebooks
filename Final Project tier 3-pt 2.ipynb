{
  "metadata": {
    "language_info": {
      "codemirror_mode": {
        "name": "python",
        "version": 3
      },
      "file_extension": ".py",
      "mimetype": "text/x-python",
      "name": "python",
      "nbconvert_exporter": "python",
      "pygments_lexer": "ipython3",
      "version": "3.8"
    },
    "kernelspec": {
      "name": "python",
      "display_name": "Pyolite",
      "language": "python"
    }
  },
  "nbformat_minor": 4,
  "nbformat": 4,
  "cells": [
    {
      "cell_type": "code",
      "source": "## import libraries ##\n\nimport pandas as pd\nimport numpy as np\nimport matplotlib.pyplot as plt\nfrom scipy import stats\nimport random",
      "metadata": {
        "trusted": true
      },
      "execution_count": 155,
      "outputs": []
    },
    {
      "cell_type": "markdown",
      "source": "# Part 1",
      "metadata": {}
    },
    {
      "cell_type": "markdown",
      "source": "## 1a.",
      "metadata": {}
    },
    {
      "cell_type": "code",
      "source": "## Read in Apple dataset ##\n\nimport pandas as pd\nfrom js import fetch\n\nURL = \"https://raw.githubusercontent.com/cctechsolutions/datasets/main/AppleStore.csv\"\n\nres = await fetch(URL)\ntext = await res.text()\n\nfilename = 'data.csv'\n\nwith open(filename, 'w') as f:\n    f.write(text)\n\napple = pd.read_csv(filename, sep=',')",
      "metadata": {
        "trusted": true
      },
      "execution_count": 156,
      "outputs": []
    },
    {
      "cell_type": "code",
      "source": "## Read in Google dataset ##\n\nURL = \"https://raw.githubusercontent.com/cctechsolutions/datasets/main/googleplaystore.csv\"\n\nres = await fetch(URL)\ntext = await res.text()\n\nfilename = 'data.csv'\n\nwith open(filename, 'w') as f:\n    f.write(text)\n\ngoogle = pd.read_csv(filename, sep=',')",
      "metadata": {
        "trusted": true
      },
      "execution_count": 157,
      "outputs": []
    },
    {
      "cell_type": "markdown",
      "source": "## 1b. and 1c.",
      "metadata": {}
    },
    {
      "cell_type": "code",
      "source": "## Subset the Apple data ##\n\napple = apple[['prime_genre', 'user_rating', 'rating_count_tot', 'price']]",
      "metadata": {
        "trusted": true
      },
      "execution_count": 158,
      "outputs": []
    },
    {
      "cell_type": "code",
      "source": "## Subset the Google data ##\n\ngoogle = google[['Category', 'Rating', 'Reviews', 'Price']]",
      "metadata": {
        "trusted": true
      },
      "execution_count": 159,
      "outputs": []
    },
    {
      "cell_type": "markdown",
      "source": "# Part 2",
      "metadata": {}
    },
    {
      "cell_type": "markdown",
      "source": "## 2a.",
      "metadata": {}
    },
    {
      "cell_type": "code",
      "source": "## Check out the data types in Apple data frame ##\n\napple.dtypes",
      "metadata": {
        "trusted": true
      },
      "execution_count": 160,
      "outputs": [
        {
          "execution_count": 160,
          "output_type": "execute_result",
          "data": {
            "text/plain": "prime_genre          object\nuser_rating         float64\nrating_count_tot      int64\nprice               float64\ndtype: object"
          },
          "metadata": {}
        }
      ]
    },
    {
      "cell_type": "code",
      "source": "## Check out the data types in Google data frame ##\n\ngoogle.dtypes",
      "metadata": {
        "trusted": true
      },
      "execution_count": 161,
      "outputs": [
        {
          "execution_count": 161,
          "output_type": "execute_result",
          "data": {
            "text/plain": "Category     object\nRating      float64\nReviews      object\nPrice        object\ndtype: object"
          },
          "metadata": {}
        }
      ]
    },
    {
      "cell_type": "code",
      "source": "## Check unique values of the price column ##\n\ngoogleproblems = google['Price'].unique()\ngoogleproblems",
      "metadata": {
        "trusted": true
      },
      "execution_count": 162,
      "outputs": [
        {
          "execution_count": 162,
          "output_type": "execute_result",
          "data": {
            "text/plain": "array(['0', '$4.99', '$3.99', '$6.99', '$1.49', '$2.99', '$7.99', '$5.99',\n       '$3.49', '$1.99', '$9.99', '$7.49', '$0.99', '$9.00', '$5.49',\n       '$10.00', '$24.99', '$11.99', '$79.99', '$16.99', '$14.99',\n       '$1.00', '$29.99', '$12.99', '$2.49', '$10.99', '$1.50', '$19.99',\n       '$15.99', '$33.99', '$74.99', '$39.99', '$3.95', '$4.49', '$1.70',\n       '$8.99', '$2.00', '$3.88', '$25.99', '$399.99', '$17.99',\n       '$400.00', '$3.02', '$1.76', '$4.84', '$4.77', '$1.61', '$2.50',\n       '$1.59', '$6.49', '$1.29', '$5.00', '$13.99', '$299.99', '$379.99',\n       '$37.99', '$18.99', '$389.99', '$19.90', '$8.49', '$1.75',\n       '$14.00', '$4.85', '$46.99', '$109.99', '$154.99', '$3.08',\n       '$2.59', '$4.80', '$1.96', '$19.40', '$3.90', '$4.59', '$15.46',\n       '$3.04', '$4.29', '$2.60', '$3.28', '$4.60', '$28.99', '$2.95',\n       '$2.90', '$1.97', '$200.00', '$89.99', '$2.56', '$30.99', '$3.61',\n       '$394.99', '$1.26', 'Everyone', '$1.20', '$1.04'], dtype=object)"
          },
          "metadata": {}
        }
      ]
    },
    {
      "cell_type": "code",
      "source": "## Check which data points have the value 'Everyone' for the 'Price' column ##\n\ngoogle[google['Price']=='Everyone']",
      "metadata": {
        "trusted": true
      },
      "execution_count": 163,
      "outputs": [
        {
          "execution_count": 163,
          "output_type": "execute_result",
          "data": {
            "text/plain": "      Category  Rating Reviews     Price\n10472      1.9    19.0    3.0M  Everyone",
            "text/html": "<div>\n<style scoped>\n    .dataframe tbody tr th:only-of-type {\n        vertical-align: middle;\n    }\n\n    .dataframe tbody tr th {\n        vertical-align: top;\n    }\n\n    .dataframe thead th {\n        text-align: right;\n    }\n</style>\n<table border=\"1\" class=\"dataframe\">\n  <thead>\n    <tr style=\"text-align: right;\">\n      <th></th>\n      <th>Category</th>\n      <th>Rating</th>\n      <th>Reviews</th>\n      <th>Price</th>\n    </tr>\n  </thead>\n  <tbody>\n    <tr>\n      <th>10472</th>\n      <td>1.9</td>\n      <td>19.0</td>\n      <td>3.0M</td>\n      <td>Everyone</td>\n    </tr>\n  </tbody>\n</table>\n</div>"
          },
          "metadata": {}
        }
      ]
    },
    {
      "cell_type": "code",
      "source": "## Remove the row with the problematic value ## \n\ngoogle = google.drop(10472)",
      "metadata": {
        "trusted": true
      },
      "execution_count": 164,
      "outputs": []
    },
    {
      "cell_type": "code",
      "source": "## Re-check unique values of the price column ##\n\ngoogleproblems = google['Price'].unique()\ngoogleproblems",
      "metadata": {
        "trusted": true
      },
      "execution_count": 165,
      "outputs": [
        {
          "execution_count": 165,
          "output_type": "execute_result",
          "data": {
            "text/plain": "array(['0', '$4.99', '$3.99', '$6.99', '$1.49', '$2.99', '$7.99', '$5.99',\n       '$3.49', '$1.99', '$9.99', '$7.49', '$0.99', '$9.00', '$5.49',\n       '$10.00', '$24.99', '$11.99', '$79.99', '$16.99', '$14.99',\n       '$1.00', '$29.99', '$12.99', '$2.49', '$10.99', '$1.50', '$19.99',\n       '$15.99', '$33.99', '$74.99', '$39.99', '$3.95', '$4.49', '$1.70',\n       '$8.99', '$2.00', '$3.88', '$25.99', '$399.99', '$17.99',\n       '$400.00', '$3.02', '$1.76', '$4.84', '$4.77', '$1.61', '$2.50',\n       '$1.59', '$6.49', '$1.29', '$5.00', '$13.99', '$299.99', '$379.99',\n       '$37.99', '$18.99', '$389.99', '$19.90', '$8.49', '$1.75',\n       '$14.00', '$4.85', '$46.99', '$109.99', '$154.99', '$3.08',\n       '$2.59', '$4.80', '$1.96', '$19.40', '$3.90', '$4.59', '$15.46',\n       '$3.04', '$4.29', '$2.60', '$3.28', '$4.60', '$28.99', '$2.95',\n       '$2.90', '$1.97', '$200.00', '$89.99', '$2.56', '$30.99', '$3.61',\n       '$394.99', '$1.26', '$1.20', '$1.04'], dtype=object)"
          },
          "metadata": {}
        }
      ]
    },
    {
      "cell_type": "code",
      "source": "## Convert the price values to numeric ##\n\ngoogle['Price'] = pd.to_numeric(nosymb, errors='coerce')",
      "metadata": {
        "trusted": true
      },
      "execution_count": 166,
      "outputs": []
    },
    {
      "cell_type": "code",
      "source": "## Check the type to make sure price is now numeric ##\n\ngoogle.dtypes",
      "metadata": {
        "trusted": true
      },
      "execution_count": 167,
      "outputs": [
        {
          "execution_count": 167,
          "output_type": "execute_result",
          "data": {
            "text/plain": "Category     object\nRating      float64\nReviews      object\nPrice       float64\ndtype: object"
          },
          "metadata": {}
        }
      ]
    },
    {
      "cell_type": "code",
      "source": "## Convert the reviews values to numeric ##\n\ngoogle['Reviews'] = pd.to_numeric(google['Reviews'], errors='coerce')",
      "metadata": {
        "trusted": true
      },
      "execution_count": 168,
      "outputs": []
    },
    {
      "cell_type": "code",
      "source": "## Check the type to make sure price is now numeric ##\n\ngoogle.dtypes",
      "metadata": {
        "trusted": true
      },
      "execution_count": 169,
      "outputs": [
        {
          "execution_count": 169,
          "output_type": "execute_result",
          "data": {
            "text/plain": "Category     object\nRating      float64\nReviews       int64\nPrice       float64\ndtype: object"
          },
          "metadata": {}
        }
      ]
    },
    {
      "cell_type": "markdown",
      "source": "## 2b.",
      "metadata": {}
    },
    {
      "cell_type": "code",
      "source": "## Add the column 'Platform' to both datasets ##\n\napple['Platform'] = 'apple'\ngoogle['Platform'] = 'google'",
      "metadata": {
        "trusted": true
      },
      "execution_count": 170,
      "outputs": []
    },
    {
      "cell_type": "code",
      "source": "apple.head()",
      "metadata": {
        "trusted": true
      },
      "execution_count": 171,
      "outputs": [
        {
          "execution_count": 171,
          "output_type": "execute_result",
          "data": {
            "text/plain": "    prime_genre  user_rating  rating_count_tot  price Platform\n0         Games          4.0             21292   3.99    apple\n1  Productivity          4.0            161065   0.00    apple\n2       Weather          3.5            188583   0.00    apple\n3      Shopping          4.0            262241   0.00    apple\n4     Reference          4.5            985920   0.00    apple",
            "text/html": "<div>\n<style scoped>\n    .dataframe tbody tr th:only-of-type {\n        vertical-align: middle;\n    }\n\n    .dataframe tbody tr th {\n        vertical-align: top;\n    }\n\n    .dataframe thead th {\n        text-align: right;\n    }\n</style>\n<table border=\"1\" class=\"dataframe\">\n  <thead>\n    <tr style=\"text-align: right;\">\n      <th></th>\n      <th>prime_genre</th>\n      <th>user_rating</th>\n      <th>rating_count_tot</th>\n      <th>price</th>\n      <th>Platform</th>\n    </tr>\n  </thead>\n  <tbody>\n    <tr>\n      <th>0</th>\n      <td>Games</td>\n      <td>4.0</td>\n      <td>21292</td>\n      <td>3.99</td>\n      <td>apple</td>\n    </tr>\n    <tr>\n      <th>1</th>\n      <td>Productivity</td>\n      <td>4.0</td>\n      <td>161065</td>\n      <td>0.00</td>\n      <td>apple</td>\n    </tr>\n    <tr>\n      <th>2</th>\n      <td>Weather</td>\n      <td>3.5</td>\n      <td>188583</td>\n      <td>0.00</td>\n      <td>apple</td>\n    </tr>\n    <tr>\n      <th>3</th>\n      <td>Shopping</td>\n      <td>4.0</td>\n      <td>262241</td>\n      <td>0.00</td>\n      <td>apple</td>\n    </tr>\n    <tr>\n      <th>4</th>\n      <td>Reference</td>\n      <td>4.5</td>\n      <td>985920</td>\n      <td>0.00</td>\n      <td>apple</td>\n    </tr>\n  </tbody>\n</table>\n</div>"
          },
          "metadata": {}
        }
      ]
    },
    {
      "cell_type": "markdown",
      "source": "## 2c.",
      "metadata": {}
    },
    {
      "cell_type": "code",
      "source": "## Store the old column names of the Apple data frame ##\n\napple.columns = ['prime_genre', 'user_rating', 'rating_count_tot', 'price', 'Platform']\nold_names = apple.columns",
      "metadata": {
        "trusted": true
      },
      "execution_count": 172,
      "outputs": []
    },
    {
      "cell_type": "code",
      "source": "## Create a variable called new_names where you'll store the column names of the Google data frame ##\n\ngoogle.columns = ['Category', 'Rating', 'Reviews', 'Price', 'Platform']\nnew_names = google.columns",
      "metadata": {
        "trusted": true
      },
      "execution_count": 173,
      "outputs": []
    },
    {
      "cell_type": "code",
      "source": "## Change the column names in the Apple dataset ##\n\nold_names.columns = ['prime_genre', 'user_rating', 'rating_count_tot', 'price', 'Platform']\\\n\nnew_names.columns = ['Category', 'Rating', 'Reviews', 'Price', 'Platform']\n\napple = apple.rename(columns=dict(zip(old_names, new_names)))",
      "metadata": {
        "trusted": true
      },
      "execution_count": 174,
      "outputs": []
    },
    {
      "cell_type": "markdown",
      "source": "## 2d.",
      "metadata": {}
    },
    {
      "cell_type": "code",
      "source": "## Join the two datasets ##\n\ndf = google.append(apple, ignore_index = True)",
      "metadata": {
        "trusted": true
      },
      "execution_count": 175,
      "outputs": [
        {
          "name": "stderr",
          "text": "<ipython-input-175-49adc0d697dc>:3: FutureWarning: The frame.append method is deprecated and will be removed from pandas in a future version. Use pandas.concat instead.\n  df = google.append(apple, ignore_index = True)\n",
          "output_type": "stream"
        }
      ]
    },
    {
      "cell_type": "code",
      "source": "## Check the merge by viewing a sample of the combined dataset ##\n\ndf.sample(12)",
      "metadata": {
        "trusted": true
      },
      "execution_count": 176,
      "outputs": [
        {
          "execution_count": 176,
          "output_type": "execute_result",
          "data": {
            "text/plain": "                 Category  Rating  Reviews  Price Platform\n3          ART_AND_DESIGN     4.5   215644   0.00   google\n1100              FINANCE     4.2      283   0.00   google\n13020               Games     4.5      602   4.99    apple\n12393           Education     0.0        0   9.99    apple\n17463               Games     0.0        0   0.00    apple\n5403              MEDICAL     4.9       25   0.00   google\n11070               Games     5.0      882   9.99    apple\n1346   HEALTH_AND_FITNESS     4.4    70769   0.00   google\n2528              MEDICAL     4.7        6   0.00   google\n14567               Games     4.5     4638   0.00    apple\n10759  HEALTH_AND_FITNESS     4.4       35   7.99   google\n1775                 GAME     4.1    15763   0.00   google",
            "text/html": "<div>\n<style scoped>\n    .dataframe tbody tr th:only-of-type {\n        vertical-align: middle;\n    }\n\n    .dataframe tbody tr th {\n        vertical-align: top;\n    }\n\n    .dataframe thead th {\n        text-align: right;\n    }\n</style>\n<table border=\"1\" class=\"dataframe\">\n  <thead>\n    <tr style=\"text-align: right;\">\n      <th></th>\n      <th>Category</th>\n      <th>Rating</th>\n      <th>Reviews</th>\n      <th>Price</th>\n      <th>Platform</th>\n    </tr>\n  </thead>\n  <tbody>\n    <tr>\n      <th>3</th>\n      <td>ART_AND_DESIGN</td>\n      <td>4.5</td>\n      <td>215644</td>\n      <td>0.00</td>\n      <td>google</td>\n    </tr>\n    <tr>\n      <th>1100</th>\n      <td>FINANCE</td>\n      <td>4.2</td>\n      <td>283</td>\n      <td>0.00</td>\n      <td>google</td>\n    </tr>\n    <tr>\n      <th>13020</th>\n      <td>Games</td>\n      <td>4.5</td>\n      <td>602</td>\n      <td>4.99</td>\n      <td>apple</td>\n    </tr>\n    <tr>\n      <th>12393</th>\n      <td>Education</td>\n      <td>0.0</td>\n      <td>0</td>\n      <td>9.99</td>\n      <td>apple</td>\n    </tr>\n    <tr>\n      <th>17463</th>\n      <td>Games</td>\n      <td>0.0</td>\n      <td>0</td>\n      <td>0.00</td>\n      <td>apple</td>\n    </tr>\n    <tr>\n      <th>5403</th>\n      <td>MEDICAL</td>\n      <td>4.9</td>\n      <td>25</td>\n      <td>0.00</td>\n      <td>google</td>\n    </tr>\n    <tr>\n      <th>11070</th>\n      <td>Games</td>\n      <td>5.0</td>\n      <td>882</td>\n      <td>9.99</td>\n      <td>apple</td>\n    </tr>\n    <tr>\n      <th>1346</th>\n      <td>HEALTH_AND_FITNESS</td>\n      <td>4.4</td>\n      <td>70769</td>\n      <td>0.00</td>\n      <td>google</td>\n    </tr>\n    <tr>\n      <th>2528</th>\n      <td>MEDICAL</td>\n      <td>4.7</td>\n      <td>6</td>\n      <td>0.00</td>\n      <td>google</td>\n    </tr>\n    <tr>\n      <th>14567</th>\n      <td>Games</td>\n      <td>4.5</td>\n      <td>4638</td>\n      <td>0.00</td>\n      <td>apple</td>\n    </tr>\n    <tr>\n      <th>10759</th>\n      <td>HEALTH_AND_FITNESS</td>\n      <td>4.4</td>\n      <td>35</td>\n      <td>7.99</td>\n      <td>google</td>\n    </tr>\n    <tr>\n      <th>1775</th>\n      <td>GAME</td>\n      <td>4.1</td>\n      <td>15763</td>\n      <td>0.00</td>\n      <td>google</td>\n    </tr>\n  </tbody>\n</table>\n</div>"
          },
          "metadata": {}
        }
      ]
    },
    {
      "cell_type": "markdown",
      "source": "## 2e.",
      "metadata": {}
    },
    {
      "cell_type": "code",
      "source": "## Check the dimensions of the new dataset ##\n\ndf.shape",
      "metadata": {
        "trusted": true
      },
      "execution_count": 177,
      "outputs": [
        {
          "execution_count": 177,
          "output_type": "execute_result",
          "data": {
            "text/plain": "(18037, 5)"
          },
          "metadata": {}
        }
      ]
    },
    {
      "cell_type": "code",
      "source": "## Drop all NaN values ##\n\ndf = df.dropna()",
      "metadata": {
        "trusted": true
      },
      "execution_count": 178,
      "outputs": []
    },
    {
      "cell_type": "code",
      "source": "## Check the dimensions after dropping NaN values ##\n\ndf.shape",
      "metadata": {
        "trusted": true
      },
      "execution_count": 179,
      "outputs": [
        {
          "execution_count": 179,
          "output_type": "execute_result",
          "data": {
            "text/plain": "(16563, 5)"
          },
          "metadata": {}
        }
      ]
    },
    {
      "cell_type": "markdown",
      "source": "## 2f.",
      "metadata": {}
    },
    {
      "cell_type": "code",
      "source": "# Subset your df to pick out just those rows whose value for 'Reviews' is equal to 0. ##\n# Do a count() on the result. \n\ncolumn = df['Reviews'] \ncount = column[column == 0].count()\n\ncount",
      "metadata": {
        "trusted": true
      },
      "execution_count": 180,
      "outputs": [
        {
          "execution_count": 180,
          "output_type": "execute_result",
          "data": {
            "text/plain": "929"
          },
          "metadata": {}
        }
      ]
    },
    {
      "cell_type": "code",
      "source": "## Eliminate the observations that have 0 reviews. ##\ndf = df.loc[df['Reviews'] != 0]",
      "metadata": {
        "trusted": true
      },
      "execution_count": 187,
      "outputs": []
    },
    {
      "cell_type": "markdown",
      "source": "## 2g.",
      "metadata": {}
    },
    {
      "cell_type": "code",
      "source": "## Summarize data analytically the reviews column for each platform. ##\n\ndf.groupby('Platform')['Rating'].describe()",
      "metadata": {
        "trusted": true
      },
      "execution_count": 189,
      "outputs": [
        {
          "execution_count": 189,
          "output_type": "execute_result",
          "data": {
            "text/plain": "           count      mean       std  min  25%  50%  75%  max\nPlatform                                                     \napple     6268.0  4.049697  0.726943  1.0  4.0  4.5  4.5  5.0\ngoogle    9366.0  4.191757  0.515219  1.0  4.0  4.3  4.5  5.0",
            "text/html": "<div>\n<style scoped>\n    .dataframe tbody tr th:only-of-type {\n        vertical-align: middle;\n    }\n\n    .dataframe tbody tr th {\n        vertical-align: top;\n    }\n\n    .dataframe thead th {\n        text-align: right;\n    }\n</style>\n<table border=\"1\" class=\"dataframe\">\n  <thead>\n    <tr style=\"text-align: right;\">\n      <th></th>\n      <th>count</th>\n      <th>mean</th>\n      <th>std</th>\n      <th>min</th>\n      <th>25%</th>\n      <th>50%</th>\n      <th>75%</th>\n      <th>max</th>\n    </tr>\n    <tr>\n      <th>Platform</th>\n      <th></th>\n      <th></th>\n      <th></th>\n      <th></th>\n      <th></th>\n      <th></th>\n      <th></th>\n      <th></th>\n    </tr>\n  </thead>\n  <tbody>\n    <tr>\n      <th>apple</th>\n      <td>6268.0</td>\n      <td>4.049697</td>\n      <td>0.726943</td>\n      <td>1.0</td>\n      <td>4.0</td>\n      <td>4.5</td>\n      <td>4.5</td>\n      <td>5.0</td>\n    </tr>\n    <tr>\n      <th>google</th>\n      <td>9366.0</td>\n      <td>4.191757</td>\n      <td>0.515219</td>\n      <td>1.0</td>\n      <td>4.0</td>\n      <td>4.3</td>\n      <td>4.5</td>\n      <td>5.0</td>\n    </tr>\n  </tbody>\n</table>\n</div>"
          },
          "metadata": {}
        }
      ]
    },
    {
      "cell_type": "code",
      "source": "## Summarize data visually ##\n\ndf.boxplot(by='Platform', column ='Rating', grid=False, rot=45, fontsize=15)\nplt.show()",
      "metadata": {
        "trusted": true
      },
      "execution_count": 193,
      "outputs": [
        {
          "output_type": "display_data",
          "data": {
            "text/plain": "<pyolite.display.Image at 0x9c8c938>",
            "image/png": "[encoded data removed]"
          },
          "metadata": {}
        }
      ]
    }
  ]
}